{
 "cells": [
  {
   "cell_type": "markdown",
   "id": "324469a0",
   "metadata": {},
   "source": [
    "# Force Fields for Materials"
   ]
  },
  {
   "cell_type": "markdown",
   "id": "de5d8c26",
   "metadata": {},
   "source": [
    "Machine learning force fields for studying materials has become increasingly popular. However, the large size of the physical systems associated with most materials require some tricks to keep the amount of compute and required data sufficiently low. \n",
    "\n",
    "In this tutorial, we will describe some of those tricks and how they can be implemented in the SchNetPack pipeline, namely:\n",
    "- **periodic boundary conditions (PBC)**: PBC allow to effectively reduce the number of simulated particles to only a fraction of the actual system's size. This is achieved by considering a relatively small simulation box, which is periodically repeated at its boundaries. In most cases, the resulting simulated periodic structure is a good approximation if the system under consideration.\n",
    "- **cached neighbor lists**: For large systems, the computation of all neighbors is expensive. In the training procedure this problem can be cirumvented by utilizing neihbor list caching. This way, the neighbors must only be computed in the first epoch. In the subsequent epochs the cached neihbor lists can be loaded, which reduces the training time tremendously.\n",
    "- **neighbor lists with skin buffer**: In the scope of molecular dynamics simulations or structure relaxations, caching neighbor lists is not util since the neighborhoods change with each integration step. Hence, it is recommended to use a neighbor list that utilizes a so called skin buffer. Latter represents a thin layer that extends the cutoff region. It allows to reuse the calculated neighbor lists for samples with similar atomic positions. Only when at least one atom penetrates the skin buffer, the neighbor list is recalculated.\n",
    "- **filtering out neighbors (neighbor list postprocessing)**: Also in the feed forward pass of the network, a large number of neighbors, and thus interactions, can result in slow inference and training. In some scenarios it is crucial to have as few operations as possible in the model to ensure fast inference. This can be achieved, e.g., by filtering out some neighbors from the neighbor list.\n",
    "- **prediction target emphasizing**: In some occations it may be useful to exclude the properties of some atoms from the training procedure. For example you might want to focus the training on the forces of only some atoms and neglect the rest. An examplary use case would be a model used for structure optimization where some atoms are fixed during the simulation (zero forces). Or when filtering out neighbors of certain atoms, it might be reasonable to exclude the corresponding atomic properties from the training loss. \n",
    "\n",
    "\n",
    "In the following tutorial, we will first describe how the dataset must be prepared to allow for utilizing the above mentioned tricks. Subsequently, we explain how the configs in the SchNetPack framework must be adapted for training and inference, accordingly. The dataset preparation part is based on the tutorial script \"tutorial_01_preparing_data\". Please make sure you have understood the concepts introduced there, before continuing with this tutorial."
   ]
  },
  {
   "cell_type": "markdown",
   "id": "9374b076",
   "metadata": {},
   "source": [
    "## Preparing the Dataset"
   ]
  },
  {
   "cell_type": "markdown",
   "id": "95cad555",
   "metadata": {},
   "source": [
    "First we will demonstrate how to prepare the dataset to enable the use of periodic boundary conditions (pbc). \"tutorial_01_preparing_data\" describes how to prepare your own data for SchNetPack. For this purpose, it is shown how to convert the publicly available dataset of uracil in vaccuum to a SchNetPack readable database (ase). Here we expand this tutorial by describing how to add periodic boundary conditions to your system. This is achieved by adding the periodic boundary conditions to the ASE Atoms object before storing it in the database. \n",
    "\n",
    "The periodic boundary of an ASE Atoms object can be specified as follows:"
   ]
  },
  {
   "cell_type": "code",
   "execution_count": null,
   "id": "364dcf6b",
   "metadata": {},
   "outputs": [],
   "source": [
    "from ase import Atoms\n",
    "import numpy as np\n",
    "\n",
    "\n",
    "periodic_cell_x = 28.\n",
    "periodic_cell_y = 24.\n",
    "periodic_cell_z = 72.\n",
    "\n",
    "ats = Atoms()\n",
    "ats.pbc = np.array([True, True, True])\n",
    "ats.set_cell(np.array([periodic_cell_x, periodic_cell_y, periodic_cell_z]))"
   ]
  },
  {
   "cell_type": "markdown",
   "id": "a2b99067",
   "metadata": {},
   "source": [
    "For the purpose of filtering out certain neighbors from the neighbor list, one has to specify a list of atom indices. Between the corresponding atoms, all interactions are neglected. This set of atom indices must be stored in the dataset in form of a numpy array. In our examplary system we neglect all interactions between the atoms with index 4, 10, and 15."
   ]
  },
  {
   "cell_type": "code",
   "execution_count": null,
   "id": "af4bf0e2",
   "metadata": {},
   "outputs": [],
   "source": [
    "filtered_out_neighbors = np.array([4, 10, 15])"
   ]
  },
  {
   "cell_type": "markdown",
   "id": "498bf755",
   "metadata": {},
   "source": [
    "To specify the atoms, which targets should be considered in the model optimization, one must define a list of booleans, indicating considered and neglected atoms. This boolean array should be stored in the database along with other sample properties such as, e.g., energy, forces, and the array of filtered out neighbors.\n",
    "\n",
    "For an exemplary system of 20 atoms, the array of considered atoms could be defined as follows:"
   ]
  },
  {
   "cell_type": "code",
   "execution_count": null,
   "id": "61424286",
   "metadata": {},
   "outputs": [],
   "source": [
    "n_atoms = 20 # number of total atoms in the system\n",
    "# initialize array specifying considered atoms\n",
    "considered_atoms = np.ones(n_atoms, dtype=bool)\n",
    "\n",
    "# atom 4 and atom 5 should be neglected in the model optimization\n",
    "considered_atoms[[4, 10, 15]] = False"
   ]
  },
  {
   "cell_type": "markdown",
   "id": "fcd76464",
   "metadata": {},
   "source": [
    "For the example of the uracil dataset, the data preparation with pbc, where some neighbors are filtered out and the targets of the corresponding atoms are neglected in the training procedure, would look as follows:"
   ]
  },
  {
   "cell_type": "code",
   "execution_count": null,
   "id": "df8f7adf",
   "metadata": {},
   "outputs": [],
   "source": [
    "from ase import Atoms\n",
    "import numpy as np\n",
    "\n",
    "# load atoms from npz file. Here, we only parse the first 10 molecules\n",
    "data = np.load('./uracil_dft.npz')\n",
    "\n",
    "numbers = data[\"z\"]\n",
    "atoms_list = []\n",
    "property_list = []\n",
    "for positions, energies, forces in zip(data[\"R\"], data[\"E\"], data[\"F\"]):\n",
    "    ats = Atoms(positions=positions, numbers=numbers)\n",
    "\n",
    "    # pbc\n",
    "    ats.pbc = np.array([True, True, True])\n",
    "    ats.set_cell(np.array([periodic_cell_x, periodic_cell_y, periodic_cell_z]))    \n",
    "    \n",
    "    # prediction target emphazising\n",
    "    n_atoms = len(at_nums) \n",
    "    considered_atoms = np.ones(n_atoms, dtype=bool)\n",
    "    considered_atoms[filtered_out_neighbors.tolist()] = False\n",
    "    \n",
    "    properties = {\"energy\": energies, \n",
    "                  \"forces\": forces, \n",
    "                  \"considered_atoms\": considered_atoms, \n",
    "                  \"filtered_out_neighbors\", filtered_out_neighbors}\n",
    "    property_list.append(properties)\n",
    "    atoms_list.append(ats)\n",
    "    \n",
    "print('Properties:', property_list[0])"
   ]
  },
  {
   "cell_type": "markdown",
   "id": "57e6a7de",
   "metadata": {},
   "source": [
    "Subsquently, the dataset is created the same way as for urcil in vacuum, with the additional unitless properties \"considered_atoms\" and \"filtered_out_neighbors\"."
   ]
  },
  {
   "cell_type": "code",
   "execution_count": null,
   "id": "d4c100ed",
   "metadata": {},
   "outputs": [],
   "source": [
    "new_dataset = ASEAtomsData.create(\n",
    "    './new_dataset.db', \n",
    "    distance_unit='Ang',\n",
    "    property_unit_dict={\n",
    "        'energy':'kcal/mol', 'forces':'kcal/mol/Ang', \"considered_atoms\": \"\", \"filtered_out_neighbors\": \"\"\n",
    "    }\n",
    ")\n",
    "new_dataset.add_systems(property_list, atoms_list)"
   ]
  },
  {
   "cell_type": "markdown",
   "id": "38b4456c",
   "metadata": {},
   "source": [
    "# Adapting the Configs in the SchNetPack Framework"
   ]
  },
  {
   "cell_type": "markdown",
   "id": "b6f7ea4f",
   "metadata": {},
   "source": [
    "Now we will cover, how to adapt config files to enable the use of the above mentioned tricks in SchNetPack's traning procedure and MD framework"
   ]
  },
  {
   "cell_type": "markdown",
   "id": "50391832",
   "metadata": {},
   "source": [
    "### SchNetPack Training"
   ]
  },
  {
   "cell_type": "markdown",
   "id": "fecc4a5f",
   "metadata": {},
   "source": [
    "Provided that appropriate neighbor list providers (ASE or MatScipy) are used, this is sufficient for using pbc in the SchNet/PaiNN framework.\n",
    "\n",
    "The neighbor list caching is implemented in the schnetpack transform ``schnetpack.transform.CachedNeighborList``. SchNetPack provides a transform for caching neighbor lists. It basically functions as a wrapper around a common neighbor lists. For further information regarding the CachedNeighborList please refer to the corresponding docstring in the schnetpack code.\n",
    "\n",
    "Neighbors can be filtered out by using the neighbor list postprocessing transform ``schnetpack.transform.FilterNeighbors``.\n",
    "\n",
    "To ensure that only the specified atoms are considered for the training on a certain property, the respective ModelOutput object has to be adapted. This is achieved by using so called constraints. Each ModelOutput object takes a list of constraints. For a precise explanation on how to use ``schnetpack.task.ModelOutput`` please refer to notebook \"tutorial_02_qm9\". To specify the selection of atoms for training we use the constraint transform ``schnetpack.task.ConsiderOnlySelectedAtoms``. It has the attribute selection_name, which should be a string linking to the array of specified atoms stored in the database.\n",
    "\n",
    "The following is an example of an experiment config file that utilizes the above mentioned tricks."
   ]
  },
  {
   "cell_type": "raw",
   "id": "a7acd09b",
   "metadata": {},
   "source": [
    "# @package _global_\n",
    "\n",
    "defaults:\n",
    "  - override /model: nnp\n",
    "\n",
    "run.path: runs\n",
    "\n",
    "globals:\n",
    "  cutoff: 5.\n",
    "  lr: 5e-4\n",
    "  energy_key: energy\n",
    "  forces_key: forces\n",
    "\n",
    "data:\n",
    "  distance_unit: Ang\n",
    "  property_units:\n",
    "    energy: eV\n",
    "    forces: eV/Ang\n",
    "  transforms:\n",
    "    - _target_: schnetpack.transform.RemoveOffsets\n",
    "      property: energy\n",
    "      remove_mean: True\n",
    "    - _target_: schnetpack.transform.CachedNeighborList\n",
    "      cache_path: ${run.work_dir}/cache\n",
    "      keep_cache: False\n",
    "      neighbor_list:\n",
    "        _target_: schnetpack.transform.MatScipyNeighborList\n",
    "        cutoff: ${globals.cutoff}\n",
    "      nbh_transforms:\n",
    "        - _target_: schnetpack.transform.FilterNeighbors\n",
    "          selection_name: filtered_out_neighbors\n",
    "    - _target_: schnetpack.transform.CastTo32\n",
    "  test_transforms:\n",
    "    - _target_: schnetpack.transform.RemoveOffsets\n",
    "      property: energy\n",
    "      remove_mean: True\n",
    "    - _target_: schnetpack.transform.MatScipyNeighborList\n",
    "      cutoff: ${globals.cutoff}\n",
    "    - _target_: schnetpack.transform.FilterNeighbors\n",
    "      selection_name: filtered_out_neighbors\n",
    "    - _target_: schnetpack.transform.CastTo32\n",
    "\n",
    "model:\n",
    "  output_modules:\n",
    "    - _target_: schnetpack.atomistic.Atomwise\n",
    "      output_key: ${globals.energy_key}\n",
    "      n_in: ${model.representation.n_atom_basis}\n",
    "      aggregation_mode: sum\n",
    "    - _target_: schnetpack.atomistic.Forces\n",
    "      energy_key: ${globals.energy_key}\n",
    "      force_key: ${globals.forces_key}\n",
    "  postprocessors:\n",
    "    - _target_: schnetpack.transform.CastTo64\n",
    "    - _target_: schnetpack.transform.AddOffsets\n",
    "      property: energy\n",
    "      add_mean: True\n",
    "\n",
    "task:\n",
    "  optimizer_cls: torch.optim.AdamW                                        \n",
    "  optimizer_args:                                                         \n",
    "    lr: ${globals.lr}                                                     \n",
    "    weight_decay: 0.01  \n",
    "  outputs:\n",
    "    - _target_: schnetpack.task.ModelOutput\n",
    "      name: ${globals.energy_key}\n",
    "      loss_fn:\n",
    "        _target_: torch.nn.MSELoss\n",
    "      metrics:\n",
    "        mae:\n",
    "          _target_: torchmetrics.regression.MeanAbsoluteError\n",
    "        mse:\n",
    "          _target_: torchmetrics.regression.MeanSquaredError\n",
    "      loss_weight: 0.0\n",
    "    - _target_: schnetpack.task.ModelOutput\n",
    "      name: ${globals.forces_key}\n",
    "      constraints: \n",
    "        - _target_: schnetpack.task.ConsiderOnlySelectedAtoms\n",
    "          selection_name: considered_atoms\n",
    "      loss_fn:\n",
    "        _target_: torch.nn.MSELoss\n",
    "      metrics:\n",
    "        mae:\n",
    "          _target_: torchmetrics.regression.MeanAbsoluteError\n",
    "        mse:\n",
    "          _target_: torchmetrics.regression.MeanSquaredError\n",
    "      loss_weight: 1.0\n"
   ]
  },
  {
   "cell_type": "markdown",
   "id": "938b08f2",
   "metadata": {},
   "source": [
    "### SchNetPack MD and Structure Relaxation"
   ]
  },
  {
   "cell_type": "markdown",
   "id": "9a4c49c0",
   "metadata": {},
   "source": [
    "In the framework of MD simulations and structure relaxations it is preferable to utilize neighbor lists with skin buffers. The corresponding class in SchNetPack is called ``schnetpack.transform.SkinNeighborList``. It takes as an argument a conventional neighbor list class such as, e.g., ASENeighborList, post-processing transforms for manipulating the neighbor lists and the cutoff skin which defines the size of the skin buffer around the actual cutoff region. Please choose a sufficiently large cutoff skin value to ensure that between two subsequent samples no atom can penetrate through the skin into the cutoff sphere of another atom if it is not in the neighbor list of that atom."
   ]
  },
  {
   "cell_type": "raw",
   "id": "dc79934d",
   "metadata": {},
   "source": [
    "_target_: schnetpack.md.calculators.SchNetPackCalculator\n",
    "required_properties:\n",
    "  - energy\n",
    "  - forces\n",
    "model_file: ???\n",
    "force_label: forces\n",
    "energy_units: kcal / mol\n",
    "position_units: Angstrom\n",
    "energy_label: energy\n",
    "stress_label: null\n",
    "script_model: false\n",
    "\n",
    "defaults:\n",
    "  - neighbor_list: \n",
    "    _target_: schnetpack.transform.SkinNeighborList\n",
    "    cutoff_skin: 2.0\n",
    "    neighbor_list:\n",
    "      _target_: schnetpack.transform.ASENeighborList\n",
    "      cutoff: 5.0\n",
    "    nbh_transforms:\n",
    "      - _target_: schnetpack.transform.FilteredNeighbors\n",
    "        selection_name: filtered_out_neighbors"
   ]
  }
 ],
 "metadata": {
  "kernelspec": {
   "display_name": "Python 3 (ipykernel)",
   "language": "python",
   "name": "python3"
  },
  "language_info": {
   "codemirror_mode": {
    "name": "ipython",
    "version": 3
   },
   "file_extension": ".py",
   "mimetype": "text/x-python",
   "name": "python",
   "nbconvert_exporter": "python",
   "pygments_lexer": "ipython3",
   "version": "3.8.13"
  }
 },
 "nbformat": 4,
 "nbformat_minor": 5
}
