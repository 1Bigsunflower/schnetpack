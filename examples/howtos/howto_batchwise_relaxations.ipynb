{
 "cells": [
  {
   "cell_type": "markdown",
   "id": "d100d71c",
   "metadata": {},
   "source": [
    "# Batch-wise Structure Relaxation"
   ]
  },
  {
   "cell_type": "markdown",
   "id": "cd51dfe1",
   "metadata": {},
   "source": [
    "In this tutorial, we show how to use the ``TorchStructureLBFGS``. It enables relaxation of structures in a batch-wise manner, i.e. it optimizes multiple structures in parallel. This is particularly useful, when many relatively similar structures (--> similar time until convergence) should be relaxed while requiring possibly short simulation time."
   ]
  },
  {
   "cell_type": "code",
   "execution_count": 1,
   "id": "3f71b17f",
   "metadata": {},
   "outputs": [],
   "source": [
    "import torch\n",
    "from ase.io import read\n",
    "\n",
    "import schnetpack as spk\n",
    "from schnetpack import properties\n",
    "from schnetpack.interfaces.ase_interface import AtomsConverter\n",
    "from schnetpack.interfaces.batchwise_optimizer import ASEBatchwiseLBFGS"
   ]
  },
  {
   "cell_type": "markdown",
   "id": "6339e784",
   "metadata": {},
   "source": [
    "First, we load the force field model that provides the forces for the relaxation process. Furthermore, we define the atoms converter, which is used to convert ase Atoms objects to SchNetPack input."
   ]
  },
  {
   "cell_type": "code",
   "execution_count": 2,
   "id": "7be235c2",
   "metadata": {},
   "outputs": [],
   "source": [
    "model_path = \"../../tests/testdata/md_ethanol.model\"\n",
    "\n",
    "# set device\n",
    "device = torch.device(\"cuda\")\n",
    "\n",
    "# load model\n",
    "model = torch.load(model_path, map_location=device)\n",
    "\n",
    "# define neighbor list\n",
    "cutoff = model.representation.cutoff.item()\n",
    "nbh_list=spk.transform.MatScipyNeighborList(cutoff=cutoff)\n",
    "\n",
    "# build atoms converter\n",
    "atoms_converter = AtomsConverter(\n",
    "    neighbor_list=nbh_list,\n",
    "    device=device,\n",
    ")"
   ]
  },
  {
   "cell_type": "markdown",
   "id": "66f87158",
   "metadata": {},
   "source": [
    "Subsequently, we load the batch of initial structures utilizing ASE (supports xyz, db and more)."
   ]
  },
  {
   "cell_type": "code",
   "execution_count": 3,
   "id": "2602ada3",
   "metadata": {},
   "outputs": [],
   "source": [
    "input_structure_file = \"../../tests/testdata/md_ethanol.xyz\"\n",
    "\n",
    "# load initial structures\n",
    "ats = read(input_structure_file, index=\":\")"
   ]
  },
  {
   "cell_type": "markdown",
   "id": "5323eaa6",
   "metadata": {},
   "source": [
    "For some systems it helps to fix the positions of certain atoms during the relaxation. This can be achieved by providing a mask of boolean entries to ``ASEBatchwiseLBFGS``. The mask is a list of $n_\\text{atoms}$ entries, indicating atoms, which positions are fixed during the relaxation. Here, we do not fix any atoms. Hence, the mask only contains ``True``."
   ]
  },
  {
   "cell_type": "code",
   "execution_count": 4,
   "id": "f2e05da1",
   "metadata": {},
   "outputs": [],
   "source": [
    "# define structure mask for optimization (True for fixed, False for non-fixed)\n",
    "n_atoms = len(ats[0].get_atomic_numbers())\n",
    "single_structure_mask = [False for _ in range(n_atoms)]\n",
    "# expand mask by number of input structures (fixed atoms are equivalent for all input structures)\n",
    "mask = single_structure_mask * len(ats)"
   ]
  },
  {
   "cell_type": "markdown",
   "id": "252b22e8",
   "metadata": {},
   "source": [
    "Finally, we run the optimization:"
   ]
  },
  {
   "cell_type": "code",
   "execution_count": 5,
   "id": "e80e2433",
   "metadata": {},
   "outputs": [
    {
     "name": "stdout",
     "output_type": "stream",
     "text": [
      "                   Step     Time         fmax\n",
      "ASEBatchwiseLBFGS:    0 12:01:16       1.4290\n",
      "ASEBatchwiseLBFGS:   24 12:01:16       0.0004\n"
     ]
    },
    {
     "data": {
      "text/plain": [
       "True"
      ]
     },
     "execution_count": 5,
     "metadata": {},
     "output_type": "execute_result"
    }
   ],
   "source": [
    "# Initialize optimizer\n",
    "optimizer = ASEBatchwiseLBFGS(\n",
    "    model=model,\n",
    "    atoms=ats,\n",
    "    converter=atoms_converter,\n",
    "    #fixed_atoms_mask=mask,\n",
    "    trajectory=\".relax_traj\",\n",
    "    energy_unit=\"kcal/mol\",\n",
    "    position_unit=\"Ang\",\n",
    ")\n",
    "\n",
    "# run optimization\n",
    "optimizer.run(fmax=0.0005, steps=1000)"
   ]
  },
  {
   "cell_type": "code",
   "execution_count": 13,
   "id": "1ed93e7d",
   "metadata": {},
   "outputs": [
    {
     "name": "stdout",
     "output_type": "stream",
     "text": [
      "[[-4.92642021  1.53844273 -0.06455463]\n",
      " [-3.41313696  1.45339704 -0.13812941]\n",
      " [-5.23321629  2.29324794  0.6733253 ]\n",
      " [-5.35420847  0.5697878   0.2302338 ]\n",
      " [-5.34598112  1.81654835 -1.04170418]\n",
      " [-2.99841595  1.18484378  0.85213369]\n",
      " [-2.99016571  2.43538523 -0.42366371]\n",
      " [-3.07344508  0.45518184 -1.11438727]\n",
      " [-2.10454273  0.39966059 -1.16255355]]\n",
      "{'energy': tensor([-97209.5078], device='cuda:0', grad_fn=<AsStridedBackward0>), 'forces': tensor([[-0.0038,  0.0008,  0.0007],\n",
      "        [-0.0088,  0.0022,  0.0020],\n",
      "        [ 0.0044, -0.0020, -0.0020],\n",
      "        [ 0.0039,  0.0039, -0.0023],\n",
      "        [ 0.0038, -0.0022,  0.0040],\n",
      "        [-0.0017,  0.0041,  0.0006],\n",
      "        [-0.0017,  0.0008,  0.0041],\n",
      "        [ 0.0026, -0.0048, -0.0047],\n",
      "        [ 0.0014, -0.0027, -0.0026]], device='cuda:0')}\n"
     ]
    }
   ],
   "source": [
    "# get list of optimized structures and properties\n",
    "opt_atoms, opt_props = optimizer.get_relaxation_results()\n",
    "\n",
    "for oatoms in opt_atoms:\n",
    "    print(oatoms.get_positions())\n",
    "    \n",
    "print(opt_props)"
   ]
  }
 ],
 "metadata": {
  "kernelspec": {
   "display_name": "Python 3 (ipykernel)",
   "language": "python",
   "name": "python3"
  },
  "language_info": {
   "codemirror_mode": {
    "name": "ipython",
    "version": 3
   },
   "file_extension": ".py",
   "mimetype": "text/x-python",
   "name": "python",
   "nbconvert_exporter": "python",
   "pygments_lexer": "ipython3",
   "version": "3.8.13"
  }
 },
 "nbformat": 4,
 "nbformat_minor": 5
}
