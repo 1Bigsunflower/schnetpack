{
 "cells": [
  {
   "cell_type": "code",
   "execution_count": null,
   "id": "3f71b17f",
   "metadata": {},
   "outputs": [],
   "source": [
    "import torch\n",
    "from ase.io import read\n",
    "\n",
    "import schnetpack as spk\n",
    "from schnetpack import properties\n",
    "from schnetpack.interfaces.ase_interface import AtomsConverter\n",
    "from schnetpack.interfaces.batchwise_optimizer import TorchLBFGS"
   ]
  },
  {
   "cell_type": "code",
   "execution_count": null,
   "id": "2aa7f096",
   "metadata": {},
   "outputs": [],
   "source": [
    "input_structure_file = \"/home/jonas/Documents/schnetpack/tests/testdata/md_ethanol.xyz\"\n",
    "model_path = \"/home/jonas/Documents/schnetpack/tests/testdata/md_ethanol.model\""
   ]
  },
  {
   "cell_type": "code",
   "execution_count": null,
   "id": "2602ada3",
   "metadata": {},
   "outputs": [],
   "source": [
    "# set device\n",
    "device = torch.device(\"cuda\")\n",
    "\n",
    "# load model\n",
    "model = torch.load(model_path, map_location=device)\n",
    "# remove response modules (to avoid differentiating more than once)\n",
    "model.model_outputs = [\"energy\"]\n",
    "model.do_postprocessing = False\n",
    "model.required_derivatives = []\n",
    "model.output_modules = torch.nn.ModuleList([model.output_modules[0]])"
   ]
  },
  {
   "cell_type": "code",
   "execution_count": null,
   "id": "4d67d50f",
   "metadata": {},
   "outputs": [],
   "source": [
    "# define neighbor list\n",
    "cutoff = model.representation.cutoff.item()\n",
    "nbh_list=spk.transform.MatScipyNeighborList(cutoff=cutoff)\n",
    "\n",
    "# build atoms converter\n",
    "atoms_converter = AtomsConverter(\n",
    "    neighbor_list=nbh_list,\n",
    "    device=device,\n",
    ")"
   ]
  },
  {
   "cell_type": "code",
   "execution_count": null,
   "id": "f2e05da1",
   "metadata": {},
   "outputs": [],
   "source": [
    "ats = read(input_structure_file, index=\":\")"
   ]
  },
  {
   "cell_type": "code",
   "execution_count": null,
   "id": "e3c45636",
   "metadata": {},
   "outputs": [],
   "source": [
    "# define structure mask for optimization (True for fixed, False for non-fixed)\n",
    "n_atoms = len(ats[0].get_atomic_numbers())\n",
    "single_structure_mask = [False for _ in range(n_atoms * 3)]\n",
    "# expand mask by number of input structures (fixed atoms are equivalent for all input structures)\n",
    "mask = single_structure_mask * len(ats)"
   ]
  },
  {
   "cell_type": "code",
   "execution_count": null,
   "id": "8e2f2c21",
   "metadata": {},
   "outputs": [],
   "source": [
    "# convert atoms object to schnet batch\n",
    "inputs = atoms_converter(ats)"
   ]
  },
  {
   "cell_type": "code",
   "execution_count": null,
   "id": "e80e2433",
   "metadata": {},
   "outputs": [],
   "source": [
    "# Initialize optimizer\n",
    "optimizer = TorchLBFGS(\n",
    "    model=model,\n",
    "    model_inputs=inputs,\n",
    "    fixed_atoms_mask=mask\n",
    ")\n",
    "\n",
    "# run optimization\n",
    "optimizer.run(fmax=0.0005, max_opt_steps=1000)"
   ]
  },
  {
   "cell_type": "code",
   "execution_count": null,
   "id": "1ed93e7d",
   "metadata": {},
   "outputs": [],
   "source": [
    "# get new atomic positions\n",
    "optimizer.get_relaxed_structure()"
   ]
  }
 ],
 "metadata": {
  "kernelspec": {
   "display_name": "Python 3 (ipykernel)",
   "language": "python",
   "name": "python3"
  },
  "language_info": {
   "codemirror_mode": {
    "name": "ipython",
    "version": 3
   },
   "file_extension": ".py",
   "mimetype": "text/x-python",
   "name": "python",
   "nbconvert_exporter": "python",
   "pygments_lexer": "ipython3",
   "version": "3.8.13"
  }
 },
 "nbformat": 4,
 "nbformat_minor": 5
}
