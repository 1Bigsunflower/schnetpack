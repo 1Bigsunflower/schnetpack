{
 "cells": [
  {
   "cell_type": "markdown",
   "id": "d100d71c",
   "metadata": {},
   "source": [
    "# Batch-wise Relaxations"
   ]
  },
  {
   "cell_type": "markdown",
   "id": "cd51dfe1",
   "metadata": {},
   "source": [
    "In this tutorial, we show how to use the TorchStructureLBFGS. Latter allows for relaxing structures in a batch-wise manner, i.h. it optimizes multiple structures in parallel. This is particularely useful, when many relatively similar structures (--> similar time until convergence) should be relaxed while requiring possibly short simulation time."
   ]
  },
  {
   "cell_type": "code",
   "execution_count": null,
   "id": "3f71b17f",
   "metadata": {},
   "outputs": [],
   "source": [
    "import torch\n",
    "from ase.io import read\n",
    "\n",
    "import schnetpack as spk\n",
    "from schnetpack import properties\n",
    "from schnetpack.interfaces.ase_interface import AtomsConverter\n",
    "from schnetpack.interfaces.batchwise_optimizer import TorchStructureLBFGS"
   ]
  },
  {
   "cell_type": "markdown",
   "id": "6339e784",
   "metadata": {},
   "source": [
    "First, we load the force field model that provides the forces for the relaxation process. The avoid backwarding through the graph multiple times, the respond module (forces module) is disabled."
   ]
  },
  {
   "cell_type": "code",
   "execution_count": null,
   "id": "7be235c2",
   "metadata": {},
   "outputs": [],
   "source": [
    "model_path = \"/home/jonas/Documents/schnetpack/tests/testdata/md_ethanol.model\"\n",
    "\n",
    "# set device\n",
    "device = torch.device(\"cuda\")\n",
    "\n",
    "# load model\n",
    "model = torch.load(model_path, map_location=device)\n",
    "\n",
    "# remove response modules (to avoid differentiating more than once)\n",
    "model.model_outputs = [\"energy\"]\n",
    "model.do_postprocessing = False\n",
    "model.required_derivatives = []\n",
    "model.output_modules = torch.nn.ModuleList([model.output_modules[0]])"
   ]
  },
  {
   "cell_type": "markdown",
   "id": "66f87158",
   "metadata": {},
   "source": [
    "Subsequently, we load the batch of initial structures utilizing ASE (supports xyz, db and more) and convert it to SchNetPack input format. For this purpose we need use the AtomsConverter with suitable neighbor list. "
   ]
  },
  {
   "cell_type": "code",
   "execution_count": null,
   "id": "2602ada3",
   "metadata": {},
   "outputs": [],
   "source": [
    "input_structure_file = \"/home/jonas/Documents/schnetpack/tests/testdata/md_ethanol.xyz\"\n",
    "\n",
    "# load initial structures\n",
    "ats = read(input_structure_file, index=\":\")\n",
    "\n",
    "# define neighbor list\n",
    "cutoff = model.representation.cutoff.item()\n",
    "nbh_list=spk.transform.MatScipyNeighborList(cutoff=cutoff)\n",
    "\n",
    "# build atoms converter\n",
    "atoms_converter = AtomsConverter(\n",
    "    neighbor_list=nbh_list,\n",
    "    device=device,\n",
    ")\n",
    "\n",
    "# convert atoms object to schnetpack batch\n",
    "inputs = atoms_converter(ats)"
   ]
  },
  {
   "cell_type": "markdown",
   "id": "5323eaa6",
   "metadata": {},
   "source": [
    "For some systems it helps to fix the positions of certain atoms during the relaxation. In TorchStructureLBFGS this can be achieved by providing a mask of boolean entries. The mask is a list of n_atoms * 3 entries, i.h. it contains 3 entries for each atom associated with the respective directions in cartesian space. Here we don't fix any atoms. Hence, the mask only contains True values."
   ]
  },
  {
   "cell_type": "code",
   "execution_count": null,
   "id": "f2e05da1",
   "metadata": {},
   "outputs": [],
   "source": [
    "# define structure mask for optimization (True for fixed, False for non-fixed)\n",
    "n_atoms = len(ats[0].get_atomic_numbers())\n",
    "single_structure_mask = [False for _ in range(n_atoms * 3)]\n",
    "# expand mask by number of input structures (fixed atoms are equivalent for all input structures)\n",
    "mask = single_structure_mask * len(ats)"
   ]
  },
  {
   "cell_type": "markdown",
   "id": "252b22e8",
   "metadata": {},
   "source": [
    "Finally, we run the optimization"
   ]
  },
  {
   "cell_type": "code",
   "execution_count": null,
   "id": "e80e2433",
   "metadata": {},
   "outputs": [],
   "source": [
    "# Initialize optimizer\n",
    "optimizer = TorchStructureLBFGS(\n",
    "    model=model,\n",
    "    model_inputs=inputs,\n",
    "    fixed_atoms_mask=mask\n",
    ")\n",
    "\n",
    "# run optimization\n",
    "optimizer.run(fmax=0.0005, max_opt_steps=1000)"
   ]
  },
  {
   "cell_type": "code",
   "execution_count": null,
   "id": "1ed93e7d",
   "metadata": {},
   "outputs": [],
   "source": [
    "# get new atomic positions\n",
    "optimizer.get_relaxed_structure()"
   ]
  },
  {
   "cell_type": "code",
   "execution_count": null,
   "id": "0fd74919",
   "metadata": {},
   "outputs": [],
   "source": []
  },
  {
   "cell_type": "code",
   "execution_count": null,
   "id": "4980ef7e",
   "metadata": {},
   "outputs": [],
   "source": []
  }
 ],
 "metadata": {
  "kernelspec": {
   "display_name": "Python 3 (ipykernel)",
   "language": "python",
   "name": "python3"
  },
  "language_info": {
   "codemirror_mode": {
    "name": "ipython",
    "version": 3
   },
   "file_extension": ".py",
   "mimetype": "text/x-python",
   "name": "python",
   "nbconvert_exporter": "python",
   "pygments_lexer": "ipython3",
   "version": "3.8.13"
  }
 },
 "nbformat": 4,
 "nbformat_minor": 5
}
